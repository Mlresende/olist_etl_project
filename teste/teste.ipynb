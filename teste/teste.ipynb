{
 "cells": [
  {
   "cell_type": "markdown",
   "id": "7ccf5a06",
   "metadata": {},
   "source": [
    "# Verificando versão do pyspark e onde se localiza"
   ]
  },
  {
   "cell_type": "code",
   "execution_count": 1,
   "id": "b4d01d56",
   "metadata": {},
   "outputs": [
    {
     "name": "stdout",
     "output_type": "stream",
     "text": [
      "PySpark: 3.5.6\n",
      "Local: c:\\Users\\mlr13\\projetos\\retail_etl_project\\venv310\\lib\\site-packages\\pyspark\\__init__.py\n"
     ]
    }
   ],
   "source": [
    "import pyspark\n",
    "print(\"PySpark:\", pyspark.__version__)\n",
    "print(\"Local:\", pyspark.__file__)"
   ]
  },
  {
   "cell_type": "markdown",
   "id": "ba9a285b",
   "metadata": {},
   "source": [
    "# 1. Iniciando ambiente Spark  "
   ]
  },
  {
   "cell_type": "code",
   "execution_count": 2,
   "id": "17804e4a",
   "metadata": {},
   "outputs": [
    {
     "name": "stdout",
     "output_type": "stream",
     "text": [
      "Versão do Spark: 3.5.6\n"
     ]
    }
   ],
   "source": [
    "from pyspark.sql import SparkSession\n",
    "\n",
    "spark = SparkSession.builder \\\n",
    "    .appName(\"Teste\") \\\n",
    "    .master(\"local[*]\") \\\n",
    "    .getOrCreate()\n",
    "\n",
    "print(\"Versão do Spark:\", spark.version)"
   ]
  }
 ],
 "metadata": {
  "kernelspec": {
   "display_name": "venv310",
   "language": "python",
   "name": "python3"
  },
  "language_info": {
   "codemirror_mode": {
    "name": "ipython",
    "version": 3
   },
   "file_extension": ".py",
   "mimetype": "text/x-python",
   "name": "python",
   "nbconvert_exporter": "python",
   "pygments_lexer": "ipython3",
   "version": "3.10.11"
  }
 },
 "nbformat": 4,
 "nbformat_minor": 5
}
